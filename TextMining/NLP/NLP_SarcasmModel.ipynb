{
  "nbformat": 4,
  "nbformat_minor": 0,
  "metadata": {
    "colab": {
      "name": "NLP-SarcasmModel.ipynb",
      "provenance": [],
      "toc_visible": true
    },
    "kernelspec": {
      "name": "python3",
      "display_name": "Python 3"
    }
  },
  "cells": [
    {
      "cell_type": "code",
      "metadata": {
        "id": "JQitets_vXnN",
        "colab_type": "code",
        "colab": {}
      },
      "source": [
        "import json\n",
        "import tensorflow as tf"
      ],
      "execution_count": 0,
      "outputs": []
    },
    {
      "cell_type": "code",
      "metadata": {
        "id": "IpR14sYnvmI1",
        "colab_type": "code",
        "colab": {}
      },
      "source": [
        "with open('/content/sarcasm.json','r') as f:\n",
        "  datastore=json.load(f)\n",
        "\n",
        "sentences=[]\n",
        "labels=[]\n",
        "urls=[]\n",
        "for item in datastore:\n",
        "  sentences.append(item['headline'])\n",
        "  labels.append(item['is_sarcastic'])\n",
        "  urls.append(item['article_link'])"
      ],
      "execution_count": 0,
      "outputs": []
    },
    {
      "cell_type": "code",
      "metadata": {
        "id": "_Uvsz_UQwHAV",
        "colab_type": "code",
        "colab": {
          "base_uri": "https://localhost:8080/",
          "height": 292
        },
        "outputId": "ecf7fde6-c910-4898-b238-94314dfbe693"
      },
      "source": [
        "datastore[:5]"
      ],
      "execution_count": 37,
      "outputs": [
        {
          "output_type": "execute_result",
          "data": {
            "text/plain": [
              "[{'article_link': 'https://www.huffingtonpost.com/entry/versace-black-code_us_5861fbefe4b0de3a08f600d5',\n",
              "  'headline': \"former versace store clerk sues over secret 'black code' for minority shoppers\",\n",
              "  'is_sarcastic': 0},\n",
              " {'article_link': 'https://www.huffingtonpost.com/entry/roseanne-revival-review_us_5ab3a497e4b054d118e04365',\n",
              "  'headline': \"the 'roseanne' revival catches up to our thorny political mood, for better and worse\",\n",
              "  'is_sarcastic': 0},\n",
              " {'article_link': 'https://local.theonion.com/mom-starting-to-fear-son-s-web-series-closest-thing-she-1819576697',\n",
              "  'headline': \"mom starting to fear son's web series closest thing she will have to grandchild\",\n",
              "  'is_sarcastic': 1},\n",
              " {'article_link': 'https://politics.theonion.com/boehner-just-wants-wife-to-listen-not-come-up-with-alt-1819574302',\n",
              "  'headline': 'boehner just wants wife to listen, not come up with alternative debt-reduction ideas',\n",
              "  'is_sarcastic': 1},\n",
              " {'article_link': 'https://www.huffingtonpost.com/entry/jk-rowling-wishes-snape-happy-birthday_us_569117c4e4b0cad15e64fdcb',\n",
              "  'headline': 'j.k. rowling wishes snape happy birthday in the most magical way',\n",
              "  'is_sarcastic': 0}]"
            ]
          },
          "metadata": {
            "tags": []
          },
          "execution_count": 37
        }
      ]
    },
    {
      "cell_type": "code",
      "metadata": {
        "id": "iTg9hFbxwNIF",
        "colab_type": "code",
        "colab": {
          "base_uri": "https://localhost:8080/",
          "height": 102
        },
        "outputId": "8a4c52cc-6b88-47fb-d985-f6a4243dfc9d"
      },
      "source": [
        "sentences[:5]"
      ],
      "execution_count": 38,
      "outputs": [
        {
          "output_type": "execute_result",
          "data": {
            "text/plain": [
              "[\"former versace store clerk sues over secret 'black code' for minority shoppers\",\n",
              " \"the 'roseanne' revival catches up to our thorny political mood, for better and worse\",\n",
              " \"mom starting to fear son's web series closest thing she will have to grandchild\",\n",
              " 'boehner just wants wife to listen, not come up with alternative debt-reduction ideas',\n",
              " 'j.k. rowling wishes snape happy birthday in the most magical way']"
            ]
          },
          "metadata": {
            "tags": []
          },
          "execution_count": 38
        }
      ]
    },
    {
      "cell_type": "code",
      "metadata": {
        "id": "xvdgU1QQwk_t",
        "colab_type": "code",
        "colab": {}
      },
      "source": [
        "from tensorflow.keras.preprocessing.text import Tokenizer\n",
        "from tensorflow.keras.preprocessing.sequence import pad_sequences\n",
        "\n",
        "vocab_Size=10000\n",
        "embedding_dim=16\n",
        "max_length=12\n",
        "trunc_type='post'\n",
        "padding_type='post'\n",
        "oov_tok=\"<OOV>\"\n",
        "training_size=20000\n"
      ],
      "execution_count": 0,
      "outputs": []
    },
    {
      "cell_type": "code",
      "metadata": {
        "id": "tDVIXeS5zP_R",
        "colab_type": "code",
        "colab": {}
      },
      "source": [
        "training_sentences=sentences[0:training_size]\n",
        "testing_sentences=sentences[training_size:]\n",
        "training_labels=labels[0:training_size]\n",
        "testing_labels=labels[training_size:]"
      ],
      "execution_count": 0,
      "outputs": []
    },
    {
      "cell_type": "code",
      "metadata": {
        "id": "iE6uGojC5g3s",
        "colab_type": "code",
        "colab": {}
      },
      "source": [
        "tokenizer=Tokenizer(num_words=vocab_Size,oov_token=oov_tok)\n",
        "tokenizer.fit_on_texts(training_sentences)\n",
        "word_index=tokenizer.word_index\n",
        "training_sequences=tokenizer.texts_to_sequences(training_sentences)\n",
        "training_padded=pad_sequences(training_sequences,maxlen=max_length,padding=padding_type,truncating=trunc_type)\n"
      ],
      "execution_count": 0,
      "outputs": []
    },
    {
      "cell_type": "code",
      "metadata": {
        "id": "x8FmLzCM6W2-",
        "colab_type": "code",
        "colab": {}
      },
      "source": [
        "testing_sequences=tokenizer.texts_to_sequences(testing_sentences)\n",
        "testing_padded=pad_sequences(testing_sequences,maxlen=max_length,padding=padding_type,truncating=trunc_type)"
      ],
      "execution_count": 0,
      "outputs": []
    },
    {
      "cell_type": "code",
      "metadata": {
        "id": "DylOwVAr6n41",
        "colab_type": "code",
        "colab": {}
      },
      "source": [
        "model=tf.keras.Sequential([\n",
        "                           tf.keras.layers.Embedding(vocab_Size,embedding_dim,input_length=max_length),\n",
        "                           tf.keras.layers.GlobalAveragePooling1D(),\n",
        "                           tf.keras.layers.Dense(24,activation='relu'),\n",
        "                           tf.keras.layers.Dense(1,activation='sigmoid')\n",
        "                           ])"
      ],
      "execution_count": 0,
      "outputs": []
    },
    {
      "cell_type": "code",
      "metadata": {
        "id": "88PUe-L67lvV",
        "colab_type": "code",
        "colab": {}
      },
      "source": [
        "model.compile(loss='binary_crossentropy',optimizer='adam',metrics=['accuracy'])"
      ],
      "execution_count": 0,
      "outputs": []
    },
    {
      "cell_type": "code",
      "metadata": {
        "id": "zhLaPiFq8BUF",
        "colab_type": "code",
        "colab": {
          "base_uri": "https://localhost:8080/",
          "height": 289
        },
        "outputId": "9f109bda-9134-4e3c-c135-e30f56fc9659"
      },
      "source": [
        "model.summary()"
      ],
      "execution_count": 46,
      "outputs": [
        {
          "output_type": "stream",
          "text": [
            "Model: \"sequential_1\"\n",
            "_________________________________________________________________\n",
            "Layer (type)                 Output Shape              Param #   \n",
            "=================================================================\n",
            "embedding_1 (Embedding)      (None, 12, 16)            160000    \n",
            "_________________________________________________________________\n",
            "global_average_pooling1d_1 ( (None, 16)                0         \n",
            "_________________________________________________________________\n",
            "dense_2 (Dense)              (None, 24)                408       \n",
            "_________________________________________________________________\n",
            "dense_3 (Dense)              (None, 1)                 25        \n",
            "=================================================================\n",
            "Total params: 160,433\n",
            "Trainable params: 160,433\n",
            "Non-trainable params: 0\n",
            "_________________________________________________________________\n"
          ],
          "name": "stdout"
        }
      ]
    },
    {
      "cell_type": "code",
      "metadata": {
        "id": "f6ntIuwX8kTZ",
        "colab_type": "code",
        "colab": {}
      },
      "source": [
        "num_epochs=30\n"
      ],
      "execution_count": 0,
      "outputs": []
    },
    {
      "cell_type": "code",
      "metadata": {
        "id": "CTnIo2Hi8HcG",
        "colab_type": "code",
        "colab": {
          "base_uri": "https://localhost:8080/",
          "height": 1000
        },
        "outputId": "b583ad68-0065-4374-ab03-ed66e5d1957c"
      },
      "source": [
        "history=model.fit(training_padded,training_labels,epochs=num_epochs,validation_data=(testing_padded,testing_labels),verbose=2)"
      ],
      "execution_count": 48,
      "outputs": [
        {
          "output_type": "stream",
          "text": [
            "Train on 20000 samples, validate on 6709 samples\n",
            "Epoch 1/30\n",
            "20000/20000 - 3s - loss: 0.4780 - acc: 0.7636 - val_loss: 0.3525 - val_acc: 0.8484\n",
            "Epoch 2/30\n",
            "20000/20000 - 2s - loss: 0.2590 - acc: 0.8934 - val_loss: 0.3495 - val_acc: 0.8495\n",
            "Epoch 3/30\n",
            "20000/20000 - 2s - loss: 0.1888 - acc: 0.9277 - val_loss: 0.3814 - val_acc: 0.8474\n",
            "Epoch 4/30\n",
            "20000/20000 - 2s - loss: 0.1474 - acc: 0.9459 - val_loss: 0.4379 - val_acc: 0.8390\n",
            "Epoch 5/30\n",
            "20000/20000 - 2s - loss: 0.1184 - acc: 0.9593 - val_loss: 0.5021 - val_acc: 0.8323\n",
            "Epoch 6/30\n",
            "20000/20000 - 2s - loss: 0.0981 - acc: 0.9675 - val_loss: 0.5651 - val_acc: 0.8261\n",
            "Epoch 7/30\n",
            "20000/20000 - 2s - loss: 0.0817 - acc: 0.9729 - val_loss: 0.6189 - val_acc: 0.8238\n",
            "Epoch 8/30\n",
            "20000/20000 - 2s - loss: 0.0699 - acc: 0.9757 - val_loss: 0.6984 - val_acc: 0.8182\n",
            "Epoch 9/30\n",
            "20000/20000 - 2s - loss: 0.0580 - acc: 0.9829 - val_loss: 0.7700 - val_acc: 0.8152\n",
            "Epoch 10/30\n",
            "20000/20000 - 2s - loss: 0.0518 - acc: 0.9836 - val_loss: 0.8409 - val_acc: 0.8128\n",
            "Epoch 11/30\n",
            "20000/20000 - 2s - loss: 0.0451 - acc: 0.9865 - val_loss: 0.9025 - val_acc: 0.8117\n",
            "Epoch 12/30\n",
            "20000/20000 - 2s - loss: 0.0396 - acc: 0.9882 - val_loss: 0.9770 - val_acc: 0.8070\n",
            "Epoch 13/30\n",
            "20000/20000 - 2s - loss: 0.0353 - acc: 0.9887 - val_loss: 1.0377 - val_acc: 0.8071\n",
            "Epoch 14/30\n",
            "20000/20000 - 2s - loss: 0.0315 - acc: 0.9905 - val_loss: 1.1065 - val_acc: 0.8038\n",
            "Epoch 15/30\n",
            "20000/20000 - 2s - loss: 0.0283 - acc: 0.9916 - val_loss: 1.1696 - val_acc: 0.8056\n",
            "Epoch 16/30\n",
            "20000/20000 - 2s - loss: 0.0271 - acc: 0.9916 - val_loss: 1.2316 - val_acc: 0.8046\n",
            "Epoch 17/30\n",
            "20000/20000 - 2s - loss: 0.0235 - acc: 0.9922 - val_loss: 1.3191 - val_acc: 0.8001\n",
            "Epoch 18/30\n",
            "20000/20000 - 2s - loss: 0.0202 - acc: 0.9933 - val_loss: 1.3761 - val_acc: 0.8007\n",
            "Epoch 19/30\n",
            "20000/20000 - 2s - loss: 0.0188 - acc: 0.9941 - val_loss: 1.4570 - val_acc: 0.8025\n",
            "Epoch 20/30\n",
            "20000/20000 - 2s - loss: 0.0180 - acc: 0.9941 - val_loss: 1.5121 - val_acc: 0.8004\n",
            "Epoch 21/30\n",
            "20000/20000 - 2s - loss: 0.0163 - acc: 0.9948 - val_loss: 1.5928 - val_acc: 0.8004\n",
            "Epoch 22/30\n",
            "20000/20000 - 2s - loss: 0.0153 - acc: 0.9953 - val_loss: 1.6657 - val_acc: 0.7982\n",
            "Epoch 23/30\n",
            "20000/20000 - 2s - loss: 0.0142 - acc: 0.9954 - val_loss: 1.7197 - val_acc: 0.8009\n",
            "Epoch 24/30\n",
            "20000/20000 - 2s - loss: 0.0139 - acc: 0.9955 - val_loss: 1.8032 - val_acc: 0.7959\n",
            "Epoch 25/30\n",
            "20000/20000 - 2s - loss: 0.0116 - acc: 0.9963 - val_loss: 1.8783 - val_acc: 0.7967\n",
            "Epoch 26/30\n",
            "20000/20000 - 2s - loss: 0.0106 - acc: 0.9970 - val_loss: 1.9342 - val_acc: 0.7976\n",
            "Epoch 27/30\n",
            "20000/20000 - 2s - loss: 0.0094 - acc: 0.9970 - val_loss: 2.0027 - val_acc: 0.7983\n",
            "Epoch 28/30\n",
            "20000/20000 - 2s - loss: 0.0097 - acc: 0.9969 - val_loss: 2.0570 - val_acc: 0.7985\n",
            "Epoch 29/30\n",
            "20000/20000 - 2s - loss: 0.0100 - acc: 0.9966 - val_loss: 2.0949 - val_acc: 0.7971\n",
            "Epoch 30/30\n",
            "20000/20000 - 2s - loss: 0.0086 - acc: 0.9974 - val_loss: 2.1402 - val_acc: 0.7986\n"
          ],
          "name": "stdout"
        }
      ]
    },
    {
      "cell_type": "code",
      "metadata": {
        "id": "oB5P3yTa8lIA",
        "colab_type": "code",
        "colab": {}
      },
      "source": [
        "import matplotlib.pyplot as plt"
      ],
      "execution_count": 0,
      "outputs": []
    },
    {
      "cell_type": "code",
      "metadata": {
        "id": "rX35QLkF9MgJ",
        "colab_type": "code",
        "colab": {}
      },
      "source": [
        "def plot_graphs(history,string):\n",
        "  plt.plot(history.history[string])\n",
        "  plt.plot(history.history['val_'+string])\n",
        "  plt.xlabel(\"Epochs\")\n",
        "  plt.ylabel(string)\n",
        "  plt.legend([string,'val_'+string])\n",
        "  plt.show()"
      ],
      "execution_count": 0,
      "outputs": []
    },
    {
      "cell_type": "code",
      "metadata": {
        "id": "AYORu_Pt93nh",
        "colab_type": "code",
        "colab": {
          "base_uri": "https://localhost:8080/",
          "height": 541
        },
        "outputId": "b6cb4f86-8191-420d-daeb-6ef164c2aace"
      },
      "source": [
        "plot_graphs(history,\"acc\")\n",
        "plot_graphs(history,\"loss\")"
      ],
      "execution_count": 51,
      "outputs": [
        {
          "output_type": "display_data",
          "data": {
            "image/png": "[encoded data removed]",
            "text/plain": [
              "<Figure size 432x288 with 1 Axes>"
            ]
          },
          "metadata": {
            "tags": []
          }
        },
        {
          "output_type": "display_data",
          "data": {
            "image/png": "[encoded data removed]",
            "text/plain": [
              "<Figure size 432x288 with 1 Axes>"
            ]
          },
          "metadata": {
            "tags": []
          }
        }
      ]
    },
    {
      "cell_type": "code",
      "metadata": {
        "id": "e6BqRQp_-AE5",
        "colab_type": "code",
        "colab": {}
      },
      "source": [
        ""
      ],
      "execution_count": 0,
      "outputs": []
    }
  ]
}