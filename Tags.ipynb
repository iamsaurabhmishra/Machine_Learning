{
  "nbformat": 4,
  "nbformat_minor": 0,
  "metadata": {
    "colab": {
      "name": "Tags.ipynb",
      "version": "0.3.2",
      "provenance": []
    },
    "kernelspec": {
      "name": "python3",
      "display_name": "Python 3"
    }
  },
  "cells": [
    {
      "cell_type": "code",
      "metadata": {
        "id": "gE2sySv-ps-u",
        "colab_type": "code",
        "colab": {}
      },
      "source": [
        ""
      ],
      "execution_count": 0,
      "outputs": []
    },
    {
      "cell_type": "code",
      "metadata": {
        "id": "WAixl5W1pxSj",
        "colab_type": "code",
        "outputId": "bfa6c9dd-c368-4f6b-c3bc-3444351ef0c3",
        "colab": {
          "base_uri": "https://localhost:8080/",
          "height": 122
        }
      },
      "source": [
        "from google.colab import drive\n",
        "drive.mount('/content/drive')"
      ],
      "execution_count": 1,
      "outputs": [
        {
          "output_type": "stream",
          "text": [
            "Go to this URL in a browser: https://accounts.google.com/o/oauth2/auth?client_id=947318989803-6bn6qk8qdgf4n4g3pfee6491hc0brc4i.apps.googleusercontent.com&redirect_uri=urn%3Aietf%3Awg%3Aoauth%3A2.0%3Aoob&scope=email%20https%3A%2F%2Fwww.googleapis.com%2Fauth%2Fdocs.test%20https%3A%2F%2Fwww.googleapis.com%2Fauth%2Fdrive%20https%3A%2F%2Fwww.googleapis.com%2Fauth%2Fdrive.photos.readonly%20https%3A%2F%2Fwww.googleapis.com%2Fauth%2Fpeopleapi.readonly&response_type=code\n",
            "\n",
            "Enter your authorization code:\n",
            "··········\n",
            "Mounted at /content/drive\n"
          ],
          "name": "stdout"
        }
      ]
    },
    {
      "cell_type": "code",
      "metadata": {
        "id": "jcheciyNrTsp",
        "colab_type": "code",
        "colab": {}
      },
      "source": [
        "import os\n",
        "import zipfile"
      ],
      "execution_count": 0,
      "outputs": []
    },
    {
      "cell_type": "code",
      "metadata": {
        "id": "edcErw3UsPHE",
        "colab_type": "code",
        "colab": {}
      },
      "source": [
        "local_zip = '/content/drive/My Drive/stacklite.zip'\n",
        "zip_ref = zipfile.ZipFile(local_zip, 'r')\n",
        "zip_ref.extractall('/content/drive/My Drive/stacklite')"
      ],
      "execution_count": 0,
      "outputs": []
    },
    {
      "cell_type": "code",
      "metadata": {
        "id": "c9P0t9_js9Sq",
        "colab_type": "code",
        "colab": {}
      },
      "source": [
        "import numpy as np\n",
        "import pandas as pd\n",
        "import matplotlib.pyplot as plt"
      ],
      "execution_count": 0,
      "outputs": []
    },
    {
      "cell_type": "code",
      "metadata": {
        "id": "hXrDcvR-s9q6",
        "colab_type": "code",
        "colab": {}
      },
      "source": [
        "questions=pd.read_csv('/content/drive/My Drive/stacklite/questions.csv')\n",
        "question_tags=pd.read_csv('/content/drive/My Drive/stacklite/question_tags.csv')"
      ],
      "execution_count": 0,
      "outputs": []
    },
    {
      "cell_type": "code",
      "metadata": {
        "id": "lMqa0zlSs-T5",
        "colab_type": "code",
        "outputId": "573b3edb-018f-426c-c6bd-7ce663acbad3",
        "colab": {
          "base_uri": "https://localhost:8080/",
          "height": 34
        }
      },
      "source": [
        "questions.shape      #1.7mil rows and 7 attributes/data was completely loaded"
      ],
      "execution_count": 6,
      "outputs": [
        {
          "output_type": "execute_result",
          "data": {
            "text/plain": [
              "(17203824, 7)"
            ]
          },
          "metadata": {
            "tags": []
          },
          "execution_count": 6
        }
      ]
    },
    {
      "cell_type": "code",
      "metadata": {
        "id": "qnuBRmEettWQ",
        "colab_type": "code",
        "outputId": "9d0691dc-c535-4a2c-80cf-2eb9aecb75bb",
        "colab": {
          "base_uri": "https://localhost:8080/",
          "height": 34
        }
      },
      "source": [
        "question_tags.shape   #complete data"
      ],
      "execution_count": 7,
      "outputs": [
        {
          "output_type": "execute_result",
          "data": {
            "text/plain": [
              "(50576842, 2)"
            ]
          },
          "metadata": {
            "tags": []
          },
          "execution_count": 7
        }
      ]
    },
    {
      "cell_type": "code",
      "metadata": {
        "id": "mdz9zhCHtzCp",
        "colab_type": "code",
        "outputId": "5a8851d0-dc95-47c1-e90e-65f920d406ef",
        "colab": {
          "base_uri": "https://localhost:8080/",
          "height": 359
        }
      },
      "source": [
        "questions.tail(10)"
      ],
      "execution_count": 8,
      "outputs": [
        {
          "output_type": "execute_result",
          "data": {
            "text/html": [
              "<div>\n",
              "<style scoped>\n",
              "    .dataframe tbody tr th:only-of-type {\n",
              "        vertical-align: middle;\n",
              "    }\n",
              "\n",
              "    .dataframe tbody tr th {\n",
              "        vertical-align: top;\n",
              "    }\n",
              "\n",
              "    .dataframe thead th {\n",
              "        text-align: right;\n",
              "    }\n",
              "</style>\n",
              "<table border=\"1\" class=\"dataframe\">\n",
              "  <thead>\n",
              "    <tr style=\"text-align: right;\">\n",
              "      <th></th>\n",
              "      <th>Id</th>\n",
              "      <th>CreationDate</th>\n",
              "      <th>ClosedDate</th>\n",
              "      <th>DeletionDate</th>\n",
              "      <th>Score</th>\n",
              "      <th>OwnerUserId</th>\n",
              "      <th>AnswerCount</th>\n",
              "    </tr>\n",
              "  </thead>\n",
              "  <tbody>\n",
              "    <tr>\n",
              "      <th>17203814</th>\n",
              "      <td>42058726</td>\n",
              "      <td>2017-02-05T23:57:34Z</td>\n",
              "      <td>2017-02-06T00:43:46Z</td>\n",
              "      <td>NaN</td>\n",
              "      <td>-4</td>\n",
              "      <td>7520791.0</td>\n",
              "      <td>NaN</td>\n",
              "    </tr>\n",
              "    <tr>\n",
              "      <th>17203815</th>\n",
              "      <td>42058727</td>\n",
              "      <td>2017-02-05T23:57:39Z</td>\n",
              "      <td>NaN</td>\n",
              "      <td>NaN</td>\n",
              "      <td>1</td>\n",
              "      <td>6726592.0</td>\n",
              "      <td>1.0</td>\n",
              "    </tr>\n",
              "    <tr>\n",
              "      <th>17203816</th>\n",
              "      <td>42058728</td>\n",
              "      <td>2017-02-05T23:57:49Z</td>\n",
              "      <td>NaN</td>\n",
              "      <td>NaN</td>\n",
              "      <td>-1</td>\n",
              "      <td>1641444.0</td>\n",
              "      <td>NaN</td>\n",
              "    </tr>\n",
              "    <tr>\n",
              "      <th>17203817</th>\n",
              "      <td>42058729</td>\n",
              "      <td>2017-02-05T23:58:04Z</td>\n",
              "      <td>NaN</td>\n",
              "      <td>NaN</td>\n",
              "      <td>0</td>\n",
              "      <td>7520792.0</td>\n",
              "      <td>NaN</td>\n",
              "    </tr>\n",
              "    <tr>\n",
              "      <th>17203818</th>\n",
              "      <td>42058735</td>\n",
              "      <td>2017-02-05T23:58:36Z</td>\n",
              "      <td>NaN</td>\n",
              "      <td>NaN</td>\n",
              "      <td>2</td>\n",
              "      <td>7428353.0</td>\n",
              "      <td>1.0</td>\n",
              "    </tr>\n",
              "    <tr>\n",
              "      <th>17203819</th>\n",
              "      <td>42058740</td>\n",
              "      <td>2017-02-05T23:59:25Z</td>\n",
              "      <td>NaN</td>\n",
              "      <td>NaN</td>\n",
              "      <td>-2</td>\n",
              "      <td>7520803.0</td>\n",
              "      <td>NaN</td>\n",
              "    </tr>\n",
              "    <tr>\n",
              "      <th>17203820</th>\n",
              "      <td>42058743</td>\n",
              "      <td>2017-02-05T23:59:59Z</td>\n",
              "      <td>NaN</td>\n",
              "      <td>NaN</td>\n",
              "      <td>0</td>\n",
              "      <td>7056165.0</td>\n",
              "      <td>NaN</td>\n",
              "    </tr>\n",
              "    <tr>\n",
              "      <th>17203821</th>\n",
              "      <td>42066637</td>\n",
              "      <td>2017-02-04T20:16:32Z</td>\n",
              "      <td>NaN</td>\n",
              "      <td>NaN</td>\n",
              "      <td>-1</td>\n",
              "      <td>3357935.0</td>\n",
              "      <td>NaN</td>\n",
              "    </tr>\n",
              "    <tr>\n",
              "      <th>17203822</th>\n",
              "      <td>42067058</td>\n",
              "      <td>2017-02-05T17:04:16Z</td>\n",
              "      <td>NaN</td>\n",
              "      <td>NaN</td>\n",
              "      <td>0</td>\n",
              "      <td>356083.0</td>\n",
              "      <td>NaN</td>\n",
              "    </tr>\n",
              "    <tr>\n",
              "      <th>17203823</th>\n",
              "      <td>42069071</td>\n",
              "      <td>2017-02-05T22:35:16Z</td>\n",
              "      <td>NaN</td>\n",
              "      <td>NaN</td>\n",
              "      <td>0</td>\n",
              "      <td>7476349.0</td>\n",
              "      <td>NaN</td>\n",
              "    </tr>\n",
              "  </tbody>\n",
              "</table>\n",
              "</div>"
            ],
            "text/plain": [
              "                Id          CreationDate  ... OwnerUserId AnswerCount\n",
              "17203814  42058726  2017-02-05T23:57:34Z  ...   7520791.0         NaN\n",
              "17203815  42058727  2017-02-05T23:57:39Z  ...   6726592.0         1.0\n",
              "17203816  42058728  2017-02-05T23:57:49Z  ...   1641444.0         NaN\n",
              "17203817  42058729  2017-02-05T23:58:04Z  ...   7520792.0         NaN\n",
              "17203818  42058735  2017-02-05T23:58:36Z  ...   7428353.0         1.0\n",
              "17203819  42058740  2017-02-05T23:59:25Z  ...   7520803.0         NaN\n",
              "17203820  42058743  2017-02-05T23:59:59Z  ...   7056165.0         NaN\n",
              "17203821  42066637  2017-02-04T20:16:32Z  ...   3357935.0         NaN\n",
              "17203822  42067058  2017-02-05T17:04:16Z  ...    356083.0         NaN\n",
              "17203823  42069071  2017-02-05T22:35:16Z  ...   7476349.0         NaN\n",
              "\n",
              "[10 rows x 7 columns]"
            ]
          },
          "metadata": {
            "tags": []
          },
          "execution_count": 8
        }
      ]
    },
    {
      "cell_type": "code",
      "metadata": {
        "id": "727PymsWuGcI",
        "colab_type": "code",
        "outputId": "cf3330d6-75f8-4c83-b92b-ba43d322628e",
        "colab": {
          "base_uri": "https://localhost:8080/",
          "height": 359
        }
      },
      "source": [
        "question_tags.head(10)"
      ],
      "execution_count": 9,
      "outputs": [
        {
          "output_type": "execute_result",
          "data": {
            "text/html": [
              "<div>\n",
              "<style scoped>\n",
              "    .dataframe tbody tr th:only-of-type {\n",
              "        vertical-align: middle;\n",
              "    }\n",
              "\n",
              "    .dataframe tbody tr th {\n",
              "        vertical-align: top;\n",
              "    }\n",
              "\n",
              "    .dataframe thead th {\n",
              "        text-align: right;\n",
              "    }\n",
              "</style>\n",
              "<table border=\"1\" class=\"dataframe\">\n",
              "  <thead>\n",
              "    <tr style=\"text-align: right;\">\n",
              "      <th></th>\n",
              "      <th>Id</th>\n",
              "      <th>Tag</th>\n",
              "    </tr>\n",
              "  </thead>\n",
              "  <tbody>\n",
              "    <tr>\n",
              "      <th>0</th>\n",
              "      <td>1</td>\n",
              "      <td>data</td>\n",
              "    </tr>\n",
              "    <tr>\n",
              "      <th>1</th>\n",
              "      <td>4</td>\n",
              "      <td>c#</td>\n",
              "    </tr>\n",
              "    <tr>\n",
              "      <th>2</th>\n",
              "      <td>4</td>\n",
              "      <td>winforms</td>\n",
              "    </tr>\n",
              "    <tr>\n",
              "      <th>3</th>\n",
              "      <td>4</td>\n",
              "      <td>type-conversion</td>\n",
              "    </tr>\n",
              "    <tr>\n",
              "      <th>4</th>\n",
              "      <td>4</td>\n",
              "      <td>decimal</td>\n",
              "    </tr>\n",
              "    <tr>\n",
              "      <th>5</th>\n",
              "      <td>4</td>\n",
              "      <td>opacity</td>\n",
              "    </tr>\n",
              "    <tr>\n",
              "      <th>6</th>\n",
              "      <td>6</td>\n",
              "      <td>html</td>\n",
              "    </tr>\n",
              "    <tr>\n",
              "      <th>7</th>\n",
              "      <td>6</td>\n",
              "      <td>css</td>\n",
              "    </tr>\n",
              "    <tr>\n",
              "      <th>8</th>\n",
              "      <td>6</td>\n",
              "      <td>css3</td>\n",
              "    </tr>\n",
              "    <tr>\n",
              "      <th>9</th>\n",
              "      <td>6</td>\n",
              "      <td>internet-explorer-7</td>\n",
              "    </tr>\n",
              "  </tbody>\n",
              "</table>\n",
              "</div>"
            ],
            "text/plain": [
              "   Id                  Tag\n",
              "0   1                 data\n",
              "1   4                   c#\n",
              "2   4             winforms\n",
              "3   4      type-conversion\n",
              "4   4              decimal\n",
              "5   4              opacity\n",
              "6   6                 html\n",
              "7   6                  css\n",
              "8   6                 css3\n",
              "9   6  internet-explorer-7"
            ]
          },
          "metadata": {
            "tags": []
          },
          "execution_count": 9
        }
      ]
    },
    {
      "cell_type": "code",
      "metadata": {
        "id": "5KaJwOIWuJPh",
        "colab_type": "code",
        "outputId": "cbddc055-f78c-4839-cfa2-e74a955874f7",
        "colab": {
          "base_uri": "https://localhost:8080/",
          "height": 68
        }
      },
      "source": [
        "questions.columns"
      ],
      "execution_count": 10,
      "outputs": [
        {
          "output_type": "execute_result",
          "data": {
            "text/plain": [
              "Index(['Id', 'CreationDate', 'ClosedDate', 'DeletionDate', 'Score',\n",
              "       'OwnerUserId', 'AnswerCount'],\n",
              "      dtype='object')"
            ]
          },
          "metadata": {
            "tags": []
          },
          "execution_count": 10
        }
      ]
    },
    {
      "cell_type": "code",
      "metadata": {
        "id": "3Loi67jpum9G",
        "colab_type": "code",
        "outputId": "7ec18e81-a908-4c1e-f509-34f9ce84da6e",
        "colab": {
          "base_uri": "https://localhost:8080/",
          "height": 34
        }
      },
      "source": [
        "question_tags.columns"
      ],
      "execution_count": 11,
      "outputs": [
        {
          "output_type": "execute_result",
          "data": {
            "text/plain": [
              "Index(['Id', 'Tag'], dtype='object')"
            ]
          },
          "metadata": {
            "tags": []
          },
          "execution_count": 11
        }
      ]
    },
    {
      "cell_type": "code",
      "metadata": {
        "id": "OYu4qDE7urZr",
        "colab_type": "code",
        "colab": {}
      },
      "source": [
        "#column names seem to be in place\n",
        "#since dataset is too big,I am filtering out a subet,i.e,questions made in 2017"
      ],
      "execution_count": 0,
      "outputs": []
    },
    {
      "cell_type": "code",
      "metadata": {
        "id": "FN-afo43u0cq",
        "colab_type": "code",
        "colab": {}
      },
      "source": [
        "questions_2017=questions[(questions['CreationDate'] > '2017-01-01') & (questions['CreationDate'] < '2018-01-01')]"
      ],
      "execution_count": 0,
      "outputs": []
    },
    {
      "cell_type": "code",
      "metadata": {
        "id": "8xIOM3hnzT6-",
        "colab_type": "code",
        "outputId": "ba77e041-1d08-4595-80b4-38a25af7fd4b",
        "colab": {
          "base_uri": "https://localhost:8080/",
          "height": 34
        }
      },
      "source": [
        "questions_2017.shape     #Roughly 300000 questions were made in 2017,this excludes deleted questions from the database\n",
        "                         #also on closer look at the dataframe,I found that the data from 2017 only consists of questions from Jan and Feb"
      ],
      "execution_count": 14,
      "outputs": [
        {
          "output_type": "execute_result",
          "data": {
            "text/plain": [
              "(300872, 7)"
            ]
          },
          "metadata": {
            "tags": []
          },
          "execution_count": 14
        }
      ]
    },
    {
      "cell_type": "code",
      "metadata": {
        "id": "V2EKR-OqwjnU",
        "colab_type": "code",
        "colab": {}
      },
      "source": [
        "#Merging tags with questions\n",
        "questions_merged=questions_2017.merge(question_tags)  #left join"
      ],
      "execution_count": 0,
      "outputs": []
    },
    {
      "cell_type": "code",
      "metadata": {
        "id": "_WnYDv31yyge",
        "colab_type": "code",
        "outputId": "46b7e33d-bb50-4a9c-89e4-1385a12044c4",
        "colab": {
          "base_uri": "https://localhost:8080/",
          "height": 359
        }
      },
      "source": [
        "questions_merged.head(10)     #question rows with multiple tags are duplicated,check Id repeating"
      ],
      "execution_count": 0,
      "outputs": [
        {
          "output_type": "execute_result",
          "data": {
            "text/html": [
              "<div>\n",
              "<style scoped>\n",
              "    .dataframe tbody tr th:only-of-type {\n",
              "        vertical-align: middle;\n",
              "    }\n",
              "\n",
              "    .dataframe tbody tr th {\n",
              "        vertical-align: top;\n",
              "    }\n",
              "\n",
              "    .dataframe thead th {\n",
              "        text-align: right;\n",
              "    }\n",
              "</style>\n",
              "<table border=\"1\" class=\"dataframe\">\n",
              "  <thead>\n",
              "    <tr style=\"text-align: right;\">\n",
              "      <th></th>\n",
              "      <th>Id</th>\n",
              "      <th>CreationDate</th>\n",
              "      <th>ClosedDate</th>\n",
              "      <th>DeletionDate</th>\n",
              "      <th>Score</th>\n",
              "      <th>OwnerUserId</th>\n",
              "      <th>AnswerCount</th>\n",
              "      <th>Tag</th>\n",
              "    </tr>\n",
              "  </thead>\n",
              "  <tbody>\n",
              "    <tr>\n",
              "      <th>0</th>\n",
              "      <td>41412454</td>\n",
              "      <td>2017-01-01T00:00:04Z</td>\n",
              "      <td>NaN</td>\n",
              "      <td>NaN</td>\n",
              "      <td>1</td>\n",
              "      <td>5824685.0</td>\n",
              "      <td>NaN</td>\n",
              "      <td>postgresql</td>\n",
              "    </tr>\n",
              "    <tr>\n",
              "      <th>1</th>\n",
              "      <td>41412454</td>\n",
              "      <td>2017-01-01T00:00:04Z</td>\n",
              "      <td>NaN</td>\n",
              "      <td>NaN</td>\n",
              "      <td>1</td>\n",
              "      <td>5824685.0</td>\n",
              "      <td>NaN</td>\n",
              "      <td>grails</td>\n",
              "    </tr>\n",
              "    <tr>\n",
              "      <th>2</th>\n",
              "      <td>41412454</td>\n",
              "      <td>2017-01-01T00:00:04Z</td>\n",
              "      <td>NaN</td>\n",
              "      <td>NaN</td>\n",
              "      <td>1</td>\n",
              "      <td>5824685.0</td>\n",
              "      <td>NaN</td>\n",
              "      <td>gsp</td>\n",
              "    </tr>\n",
              "    <tr>\n",
              "      <th>3</th>\n",
              "      <td>41412456</td>\n",
              "      <td>2017-01-01T00:00:39Z</td>\n",
              "      <td>NaN</td>\n",
              "      <td>NaN</td>\n",
              "      <td>-1</td>\n",
              "      <td>4927269.0</td>\n",
              "      <td>1.0</td>\n",
              "      <td>python</td>\n",
              "    </tr>\n",
              "    <tr>\n",
              "      <th>4</th>\n",
              "      <td>41412456</td>\n",
              "      <td>2017-01-01T00:00:39Z</td>\n",
              "      <td>NaN</td>\n",
              "      <td>NaN</td>\n",
              "      <td>-1</td>\n",
              "      <td>4927269.0</td>\n",
              "      <td>1.0</td>\n",
              "      <td>shell</td>\n",
              "    </tr>\n",
              "    <tr>\n",
              "      <th>5</th>\n",
              "      <td>41412456</td>\n",
              "      <td>2017-01-01T00:00:39Z</td>\n",
              "      <td>NaN</td>\n",
              "      <td>NaN</td>\n",
              "      <td>-1</td>\n",
              "      <td>4927269.0</td>\n",
              "      <td>1.0</td>\n",
              "      <td>expect</td>\n",
              "    </tr>\n",
              "    <tr>\n",
              "      <th>6</th>\n",
              "      <td>41412457</td>\n",
              "      <td>2017-01-01T00:00:57Z</td>\n",
              "      <td>2017-01-01T00:30:45Z</td>\n",
              "      <td>2017-01-25T03:00:27Z</td>\n",
              "      <td>-2</td>\n",
              "      <td>NaN</td>\n",
              "      <td>0.0</td>\n",
              "      <td>javascript</td>\n",
              "    </tr>\n",
              "    <tr>\n",
              "      <th>7</th>\n",
              "      <td>41412457</td>\n",
              "      <td>2017-01-01T00:00:57Z</td>\n",
              "      <td>2017-01-01T00:30:45Z</td>\n",
              "      <td>2017-01-25T03:00:27Z</td>\n",
              "      <td>-2</td>\n",
              "      <td>NaN</td>\n",
              "      <td>0.0</td>\n",
              "      <td>jquery</td>\n",
              "    </tr>\n",
              "    <tr>\n",
              "      <th>8</th>\n",
              "      <td>41412457</td>\n",
              "      <td>2017-01-01T00:00:57Z</td>\n",
              "      <td>2017-01-01T00:30:45Z</td>\n",
              "      <td>2017-01-25T03:00:27Z</td>\n",
              "      <td>-2</td>\n",
              "      <td>NaN</td>\n",
              "      <td>0.0</td>\n",
              "      <td>html</td>\n",
              "    </tr>\n",
              "    <tr>\n",
              "      <th>9</th>\n",
              "      <td>41412462</td>\n",
              "      <td>2017-01-01T00:02:06Z</td>\n",
              "      <td>NaN</td>\n",
              "      <td>NaN</td>\n",
              "      <td>2</td>\n",
              "      <td>1778157.0</td>\n",
              "      <td>NaN</td>\n",
              "      <td>angularjs</td>\n",
              "    </tr>\n",
              "  </tbody>\n",
              "</table>\n",
              "</div>"
            ],
            "text/plain": [
              "         Id          CreationDate  ... AnswerCount         Tag\n",
              "0  41412454  2017-01-01T00:00:04Z  ...         NaN  postgresql\n",
              "1  41412454  2017-01-01T00:00:04Z  ...         NaN      grails\n",
              "2  41412454  2017-01-01T00:00:04Z  ...         NaN         gsp\n",
              "3  41412456  2017-01-01T00:00:39Z  ...         1.0      python\n",
              "4  41412456  2017-01-01T00:00:39Z  ...         1.0       shell\n",
              "5  41412456  2017-01-01T00:00:39Z  ...         1.0      expect\n",
              "6  41412457  2017-01-01T00:00:57Z  ...         0.0  javascript\n",
              "7  41412457  2017-01-01T00:00:57Z  ...         0.0      jquery\n",
              "8  41412457  2017-01-01T00:00:57Z  ...         0.0        html\n",
              "9  41412462  2017-01-01T00:02:06Z  ...         NaN   angularjs\n",
              "\n",
              "[10 rows x 8 columns]"
            ]
          },
          "metadata": {
            "tags": []
          },
          "execution_count": 32
        }
      ]
    },
    {
      "cell_type": "code",
      "metadata": {
        "id": "ykv2TmFt0c05",
        "colab_type": "code",
        "outputId": "3cbdf904-ceee-4893-a03b-ac7999b7b9be",
        "colab": {
          "base_uri": "https://localhost:8080/",
          "height": 34
        }
      },
      "source": [
        "questions_merged.shape             "
      ],
      "execution_count": 0,
      "outputs": [
        {
          "output_type": "execute_result",
          "data": {
            "text/plain": [
              "(894660, 8)"
            ]
          },
          "metadata": {
            "tags": []
          },
          "execution_count": 38
        }
      ]
    },
    {
      "cell_type": "code",
      "metadata": {
        "id": "ia5Py1LC2QkS",
        "colab_type": "code",
        "outputId": "efc42839-df01-49cc-9d01-1307287a3c34",
        "colab": {
          "base_uri": "https://localhost:8080/",
          "height": 102
        }
      },
      "source": [
        "questions_merged['Tag'].describe()        #26417 unique tags"
      ],
      "execution_count": 0,
      "outputs": [
        {
          "output_type": "execute_result",
          "data": {
            "text/plain": [
              "count         894442\n",
              "unique         26417\n",
              "top       javascript\n",
              "freq           34422\n",
              "Name: Tag, dtype: object"
            ]
          },
          "metadata": {
            "tags": []
          },
          "execution_count": 44
        }
      ]
    },
    {
      "cell_type": "code",
      "metadata": {
        "id": "UUZFpSOX37jV",
        "colab_type": "code",
        "outputId": "a6f15cd0-43a8-477a-8758-239d55a79f44",
        "colab": {
          "base_uri": "https://localhost:8080/",
          "height": 415
        }
      },
      "source": [
        "def plot_tags(tagCount):\n",
        "    \n",
        "    x,y = zip(*tagCount)\n",
        "    colormap = plt.cm.gist_ncar #nipy_spectral \n",
        "    colors = [colormap(i) for i in np.linspace(0, 0.8,50)]\n",
        "    area = [i/4000 for i in list(y)]   # 0 to 15 point radiuses\n",
        "    plt.figure(figsize=(10,6))\n",
        "    plt.ylabel(\"Number of questions\")\n",
        "    for i in range(len(y)):\n",
        "      plt.plot(i,y[i],marker='o',linestyle='',ms=area[i],label=x[i])   \n",
        "    plt.legend(numpoints=1)\n",
        "    plt.show()\n",
        "import collections\n",
        "\n",
        "tagCount =  collections.Counter(list(questions_merged['Tag'])).most_common(10)\n",
        "print(tagCount)\n",
        "plot_tags(tagCount)"
      ],
      "execution_count": 0,
      "outputs": [
        {
          "output_type": "stream",
          "text": [
            "[('javascript', 34422), ('java', 26919), ('python', 22825), ('php', 22106), ('android', 21842), ('c#', 19210), ('html', 15092), ('jquery', 13511), ('css', 10100), ('ios', 9975)]\n"
          ],
          "name": "stdout"
        },
        {
          "output_type": "display_data",
          "data": {
            "image/png": "[encoded data removed]",
            "text/plain": [
              "<Figure size 720x432 with 1 Axes>"
            ]
          },
          "metadata": {
            "tags": []
          }
        }
      ]
    },
    {
      "cell_type": "code",
      "metadata": {
        "id": "B1pyMxr04W08",
        "colab_type": "code",
        "colab": {}
      },
      "source": [
        "#So in 2017,Javascript was the most popular tag that appeared in questions,followed by java and python"
      ],
      "execution_count": 0,
      "outputs": []
    }
  ]
}